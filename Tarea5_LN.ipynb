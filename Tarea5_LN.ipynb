{
  "nbformat": 4,
  "nbformat_minor": 0,
  "metadata": {
    "colab": {
      "name": "Tarea5_LN.ipynb",
      "provenance": [],
      "collapsed_sections": [],
      "authorship_tag": "ABX9TyOwbipvmsgaQ4EWCKnlEoFU",
      "include_colab_link": true
    },
    "kernelspec": {
      "name": "python3",
      "display_name": "Python 3"
    },
    "language_info": {
      "name": "python"
    },
    "accelerator": "TPU"
  },
  "cells": [
    {
      "cell_type": "markdown",
      "metadata": {
        "id": "view-in-github",
        "colab_type": "text"
      },
      "source": [
        "<a href=\"https://colab.research.google.com/github/gabrielgranados97/Tarea_5_PLN/blob/main/Tarea5_LN.ipynb\" target=\"_parent\"><img src=\"https://colab.research.google.com/assets/colab-badge.svg\" alt=\"Open In Colab\"/></a>"
      ]
    },
    {
      "cell_type": "markdown",
      "source": [
        "**Gabriel Fernando Granados Álvarez**\n",
        "\n",
        "**Universidad Nacional de Colombia**\n",
        "\n",
        "**Lenguaje Natural**\n",
        "\n",
        "Tarea n°5"
      ],
      "metadata": {
        "id": "TgBR7I5EbnXJ"
      }
    },
    {
      "cell_type": "code",
      "execution_count": null,
      "metadata": {
        "id": "_75523CNbm3L"
      },
      "outputs": [],
      "source": [
        "import tensorflow as tf\n",
        "from tensorflow.keras.preprocessing.sequence import pad_sequences\n",
        "from tensorflow.keras.layers import Embedding, LSTM, Dense, Dropout, Bidirectional\n",
        "from tensorflow.keras.preprocessing.text import Tokenizer\n",
        "from tensorflow.keras.models import Sequential\n",
        "from tensorflow.keras.optimizers import Adam\n",
        "from tensorflow.keras import regularizers\n",
        "from tensorflow.keras.utils import to_categorical\n",
        "import numpy as np \n",
        "\n",
        "from tensorflow.keras.utils import plot_model"
      ]
    },
    {
      "cell_type": "code",
      "source": [
        "import nltk\n",
        "nltk.download(\"punkt\")"
      ],
      "metadata": {
        "colab": {
          "base_uri": "https://localhost:8080/"
        },
        "id": "UYFPPRZYdOkR",
        "outputId": "413cc934-f737-4867-aec1-2ea173d2d5de"
      },
      "execution_count": null,
      "outputs": [
        {
          "output_type": "stream",
          "name": "stdout",
          "text": [
            "[nltk_data] Downloading package punkt to /root/nltk_data...\n",
            "[nltk_data]   Unzipping tokenizers/punkt.zip.\n"
          ]
        },
        {
          "output_type": "execute_result",
          "data": {
            "text/plain": [
              "True"
            ]
          },
          "metadata": {},
          "execution_count": 4
        }
      ]
    },
    {
      "cell_type": "markdown",
      "source": [
        "**Lectura de datos**"
      ],
      "metadata": {
        "id": "9EZ--5fAcgWx"
      }
    },
    {
      "cell_type": "code",
      "source": [
        "!wget --no-check-certificate \\\n",
        "    https://storage.googleapis.com/laurencemoroney-blog.appspot.com/sonnets.txt \\\n",
        "    -O /tmp/sonnets.txt\n",
        "data = open('/tmp/sonnets.txt').read()\n",
        "\n",
        "corpus = data.lower().split(\"\\n\")"
      ],
      "metadata": {
        "colab": {
          "base_uri": "https://localhost:8080/"
        },
        "id": "HhtuLrUscTIP",
        "outputId": "069f9f42-3723-4cdb-a1da-a7b4dfb76340"
      },
      "execution_count": null,
      "outputs": [
        {
          "output_type": "stream",
          "name": "stdout",
          "text": [
            "--2022-06-04 20:39:22--  https://storage.googleapis.com/laurencemoroney-blog.appspot.com/sonnets.txt\n",
            "Resolving storage.googleapis.com (storage.googleapis.com)... 64.233.183.128, 173.194.198.128, 173.194.192.128, ...\n",
            "Connecting to storage.googleapis.com (storage.googleapis.com)|64.233.183.128|:443... connected.\n",
            "HTTP request sent, awaiting response... 200 OK\n",
            "Length: 93578 (91K) [text/plain]\n",
            "Saving to: ‘/tmp/sonnets.txt’\n",
            "\n",
            "\r/tmp/sonnets.txt      0%[                    ]       0  --.-KB/s               \r/tmp/sonnets.txt    100%[===================>]  91.38K  --.-KB/s    in 0.002s  \n",
            "\n",
            "2022-06-04 20:39:22 (51.7 MB/s) - ‘/tmp/sonnets.txt’ saved [93578/93578]\n",
            "\n"
          ]
        }
      ]
    },
    {
      "cell_type": "markdown",
      "source": [
        "**Tokeniza el texto**"
      ],
      "metadata": {
        "id": "RmggCLbic3um"
      }
    },
    {
      "cell_type": "code",
      "source": [
        "tokenizer = Tokenizer()\n",
        "\n",
        "corpus = data.lower().split(\"\\n\")\n",
        "tokenizer.fit_on_texts(corpus)\n",
        "total_words = len(tokenizer.word_index) + 1\n",
        "\n",
        "#print('Dictionary: ',tokenizer.word_index,'\\n')\n",
        "print('índice de rage = ',tokenizer.word_index['rage'])\n",
        "print('\\nTNúmero total d palabras en el Tokenizador (+OOV) =',total_words,'\\n')\n",
        "\n",
        "# Muestra parte del corpus\n",
        "print('Primeras líneas del corpus: \\n')\n",
        "corpus[0:10]"
      ],
      "metadata": {
        "colab": {
          "base_uri": "https://localhost:8080/"
        },
        "id": "9Cl1NKtlcb4a",
        "outputId": "84eba35e-28e2-4097-a8d8-ad545d778144"
      },
      "execution_count": null,
      "outputs": [
        {
          "output_type": "stream",
          "name": "stdout",
          "text": [
            "índice de rage =  443\n",
            "\n",
            "TNúmero total d palabras en el Tokenizador (+OOV) = 3211 \n",
            "\n",
            "Primeras líneas del corpus: \n",
            "\n"
          ]
        },
        {
          "output_type": "execute_result",
          "data": {
            "text/plain": [
              "['from fairest creatures we desire increase,',\n",
              " \"that thereby beauty's rose might never die,\",\n",
              " 'but as the riper should by time decease,',\n",
              " 'his tender heir might bear his memory:',\n",
              " 'but thou, contracted to thine own bright eyes,',\n",
              " \"feed'st thy light'st flame with self-substantial fuel,\",\n",
              " 'making a famine where abundance lies,',\n",
              " 'thyself thy foe, to thy sweet self too cruel.',\n",
              " \"thou that art now the world's fresh ornament\",\n",
              " 'and only herald to the gaudy spring,']"
            ]
          },
          "metadata": {},
          "execution_count": 10
        }
      ]
    },
    {
      "cell_type": "markdown",
      "source": [
        "**Crea n-Grams para datos de entrenamiento y etiquetas**"
      ],
      "metadata": {
        "id": "V7dagPbre2di"
      }
    },
    {
      "cell_type": "code",
      "source": [
        "# crear secuencias de entrada usando una lista de tokens\n",
        "input_sequences = []\n",
        "for line in corpus:\n",
        "    token_list = tokenizer.texts_to_sequences([line])[0]\n",
        "    for i in range(1, len(token_list)):\n",
        "        n_gram_sequence = token_list[:i+1]\n",
        "        input_sequences.append(n_gram_sequence)\n",
        "        \n",
        "print('input_sequences[0:10] = ',input_sequences[:10],'\\n')\n",
        "\n",
        "# Determine el n-gram más largo\n",
        "max_seq_test_len = max([len(x) for x in input_sequences])\n",
        "print('\\nlongitud del  n-grama más largo:',max_seq_test_len)"
      ],
      "metadata": {
        "colab": {
          "base_uri": "https://localhost:8080/"
        },
        "id": "U3RMjvl_eoKH",
        "outputId": "a8f15da4-a77e-4e61-c4dd-7f0169139e48"
      },
      "execution_count": null,
      "outputs": [
        {
          "output_type": "stream",
          "name": "stdout",
          "text": [
            "input_sequences[0:10] =  [[34, 417], [34, 417, 877], [34, 417, 877, 166], [34, 417, 877, 166, 213], [34, 417, 877, 166, 213, 517], [8, 878], [8, 878, 134], [8, 878, 134, 351], [8, 878, 134, 351, 102], [8, 878, 134, 351, 102, 156]] \n",
            "\n",
            "\n",
            "longitud del  n-grama más largo: 11\n"
          ]
        }
      ]
    },
    {
      "cell_type": "markdown",
      "source": [
        "**Agrega PAD para tener secuencias de la misma longitud**"
      ],
      "metadata": {
        "id": "Sp44QBZCgBx_"
      }
    },
    {
      "cell_type": "code",
      "source": [
        "# pad sequences \n",
        "max_sequence_len = max([len(x) for x in input_sequences])\n",
        "input_sequences = np.array(pad_sequences(input_sequences, maxlen=max_sequence_len, padding='pre'))\n",
        "\n",
        "# crea predictores y etiqueta\n",
        "predictors, label = input_sequences[:,:-1],input_sequences[:,-1]"
      ],
      "metadata": {
        "id": "Dzm5IOkDgEzx"
      },
      "execution_count": null,
      "outputs": []
    },
    {
      "cell_type": "code",
      "source": [
        "print(input_sequences.shape)\n",
        "print(predictors.shape)\n",
        "print(label.shape)"
      ],
      "metadata": {
        "colab": {
          "base_uri": "https://localhost:8080/"
        },
        "id": "6SBpI1TQgH3X",
        "outputId": "dfc3ecd5-b823-404b-ef3f-a5f23355b68a"
      },
      "execution_count": null,
      "outputs": [
        {
          "output_type": "stream",
          "name": "stdout",
          "text": [
            "(15462, 11)\n",
            "(15462, 10)\n",
            "(15462,)\n"
          ]
        }
      ]
    },
    {
      "cell_type": "code",
      "source": [
        "print(input_sequences[0:3]) # secuencia completa\n",
        "print('\\n')\n",
        "print(predictors[0:3]) # secuencia hasta el anterior al último\n",
        "print('\\n')\n",
        "print(label[0:3]) # el último de la secuencia"
      ],
      "metadata": {
        "colab": {
          "base_uri": "https://localhost:8080/"
        },
        "id": "vCOYJ_jsgQQR",
        "outputId": "defee4c1-2b59-4d30-f7b6-97a2f6603736"
      },
      "execution_count": null,
      "outputs": [
        {
          "output_type": "stream",
          "name": "stdout",
          "text": [
            "[[  0   0   0   0   0   0   0   0   0  34 417]\n",
            " [  0   0   0   0   0   0   0   0  34 417 877]\n",
            " [  0   0   0   0   0   0   0  34 417 877 166]]\n",
            "\n",
            "\n",
            "[[  0   0   0   0   0   0   0   0   0  34]\n",
            " [  0   0   0   0   0   0   0   0  34 417]\n",
            " [  0   0   0   0   0   0   0  34 417 877]]\n",
            "\n",
            "\n",
            "[417 877 166]\n"
          ]
        }
      ]
    },
    {
      "cell_type": "markdown",
      "source": [
        "**Covierte etiquetas a 1-hot**"
      ],
      "metadata": {
        "id": "dixSatDHgVoB"
      }
    },
    {
      "cell_type": "code",
      "source": [
        "label = to_categorical(label, num_classes=total_words)\n",
        "print(label.shape)"
      ],
      "metadata": {
        "colab": {
          "base_uri": "https://localhost:8080/"
        },
        "id": "B9u-fNzHgXRv",
        "outputId": "a22f4c9c-3696-4c9e-e383-e8d07dc121d6"
      },
      "execution_count": null,
      "outputs": [
        {
          "output_type": "stream",
          "name": "stdout",
          "text": [
            "(15462, 3211)\n"
          ]
        }
      ]
    },
    {
      "cell_type": "markdown",
      "source": [
        "**Enmascaramiento**"
      ],
      "metadata": {
        "id": "cWrl5L-piRVW"
      }
    },
    {
      "cell_type": "code",
      "source": [
        "class PaddingMask(tf.keras.layers.Layer):\n",
        "    def __init__(self, seq):\n",
        "        super(PaddingMask, self).__init__()\n",
        "        self.mask = tf.cast(tf.math.equal(seq, 0), tf.float32)\n",
        "        # adiciona dimensiones extra para adicionar el relleno\n",
        "        # a los logits de atención\n",
        "        self.mask = self.mask[:, tf.newaxis, tf.newaxis, :] # (batch_size, 1, 1, seq_len)\n",
        "    \n",
        "    def call():\n",
        "        return self.mask"
      ],
      "metadata": {
        "id": "QSwCekZiiUTx"
      },
      "execution_count": null,
      "outputs": []
    },
    {
      "cell_type": "markdown",
      "source": [
        "**Modelo**"
      ],
      "metadata": {
        "id": "4uAgsYFhk-6O"
      }
    },
    {
      "cell_type": "code",
      "source": [
        "model = Sequential()\n",
        "model.add(Embedding(total_words, 100, input_length=max_sequence_len-1))\n",
        "model.add(Bidirectional(LSTM(150, return_sequences = True)))\n",
        "model.add(Dropout(0.2))\n",
        "model.add(LSTM(100))\n",
        "model.add(Dense(total_words/2, activation='relu', kernel_regularizer=regularizers.l2(0.01)))\n",
        "model.add(Dense(total_words, activation='softmax'))\n",
        "model.compile(loss='categorical_crossentropy', optimizer='adam', metrics=['accuracy'])"
      ],
      "metadata": {
        "id": "3616eFKolBCv"
      },
      "execution_count": null,
      "outputs": []
    },
    {
      "cell_type": "code",
      "source": [
        "print(model.summary())"
      ],
      "metadata": {
        "colab": {
          "base_uri": "https://localhost:8080/"
        },
        "id": "6XLcQfPNlGFn",
        "outputId": "bf3f6e2d-1f44-4191-e5c9-f8bc56e9e4dd"
      },
      "execution_count": null,
      "outputs": [
        {
          "output_type": "stream",
          "name": "stdout",
          "text": [
            "Model: \"sequential\"\n",
            "_________________________________________________________________\n",
            " Layer (type)                Output Shape              Param #   \n",
            "=================================================================\n",
            " embedding (Embedding)       (None, 10, 100)           321100    \n",
            "                                                                 \n",
            " bidirectional (Bidirectiona  (None, 10, 300)          301200    \n",
            " l)                                                              \n",
            "                                                                 \n",
            " dropout (Dropout)           (None, 10, 300)           0         \n",
            "                                                                 \n",
            " lstm_1 (LSTM)               (None, 100)               160400    \n",
            "                                                                 \n",
            " dense (Dense)               (None, 1605)              162105    \n",
            "                                                                 \n",
            " dense_1 (Dense)             (None, 3211)              5156866   \n",
            "                                                                 \n",
            "=================================================================\n",
            "Total params: 6,101,671\n",
            "Trainable params: 6,101,671\n",
            "Non-trainable params: 0\n",
            "_________________________________________________________________\n",
            "None\n"
          ]
        }
      ]
    },
    {
      "cell_type": "markdown",
      "source": [
        "**Entrenamiento**"
      ],
      "metadata": {
        "id": "ojpqZtNDlQ3f"
      }
    },
    {
      "cell_type": "code",
      "source": [
        "history = model.fit(predictors, label, epochs=100, verbose=1)"
      ],
      "metadata": {
        "colab": {
          "base_uri": "https://localhost:8080/"
        },
        "id": "_zxNm-FMlQYb",
        "outputId": "44af879a-bc0e-4b3a-9761-ab6f5722f711"
      },
      "execution_count": null,
      "outputs": [
        {
          "output_type": "stream",
          "name": "stdout",
          "text": [
            "Epoch 1/100\n",
            "484/484 [==============================] - 71s 135ms/step - loss: 6.9031 - accuracy: 0.0205\n",
            "Epoch 2/100\n",
            "484/484 [==============================] - 56s 116ms/step - loss: 6.5024 - accuracy: 0.0209\n",
            "Epoch 3/100\n",
            "484/484 [==============================] - 55s 114ms/step - loss: 6.3647 - accuracy: 0.0262\n",
            "Epoch 4/100\n",
            "484/484 [==============================] - 55s 113ms/step - loss: 6.2496 - accuracy: 0.0305\n",
            "Epoch 5/100\n",
            "484/484 [==============================] - 55s 114ms/step - loss: 6.1744 - accuracy: 0.0351\n",
            "Epoch 6/100\n",
            "484/484 [==============================] - 55s 114ms/step - loss: 6.1017 - accuracy: 0.0380\n",
            "Epoch 7/100\n",
            "484/484 [==============================] - 55s 113ms/step - loss: 6.0247 - accuracy: 0.0407\n",
            "Epoch 8/100\n",
            "484/484 [==============================] - 55s 114ms/step - loss: 5.9479 - accuracy: 0.0444\n",
            "Epoch 9/100\n",
            "484/484 [==============================] - 55s 114ms/step - loss: 5.8506 - accuracy: 0.0514\n",
            "Epoch 10/100\n",
            "484/484 [==============================] - 55s 114ms/step - loss: 5.7401 - accuracy: 0.0567\n",
            "Epoch 11/100\n",
            "484/484 [==============================] - 55s 114ms/step - loss: 5.6268 - accuracy: 0.0629\n",
            "Epoch 12/100\n",
            "484/484 [==============================] - 55s 114ms/step - loss: 5.5188 - accuracy: 0.0696\n",
            "Epoch 13/100\n",
            "484/484 [==============================] - 55s 114ms/step - loss: 5.4173 - accuracy: 0.0746\n",
            "Epoch 14/100\n",
            "484/484 [==============================] - 55s 113ms/step - loss: 5.3113 - accuracy: 0.0814\n",
            "Epoch 15/100\n",
            "484/484 [==============================] - 55s 113ms/step - loss: 5.2074 - accuracy: 0.0887\n",
            "Epoch 16/100\n",
            "484/484 [==============================] - 55s 113ms/step - loss: 5.0982 - accuracy: 0.0957\n",
            "Epoch 17/100\n",
            "484/484 [==============================] - 55s 113ms/step - loss: 4.9988 - accuracy: 0.1065\n",
            "Epoch 18/100\n",
            "484/484 [==============================] - 55s 113ms/step - loss: 4.8899 - accuracy: 0.1134\n",
            "Epoch 19/100\n",
            "484/484 [==============================] - 55s 113ms/step - loss: 4.7883 - accuracy: 0.1224\n",
            "Epoch 20/100\n",
            "484/484 [==============================] - 55s 114ms/step - loss: 4.6775 - accuracy: 0.1334\n",
            "Epoch 21/100\n",
            "484/484 [==============================] - 55s 113ms/step - loss: 4.5741 - accuracy: 0.1405\n",
            "Epoch 22/100\n",
            "484/484 [==============================] - 55s 114ms/step - loss: 4.4692 - accuracy: 0.1537\n",
            "Epoch 23/100\n",
            "484/484 [==============================] - 55s 114ms/step - loss: 4.3697 - accuracy: 0.1651\n",
            "Epoch 24/100\n",
            "484/484 [==============================] - 55s 113ms/step - loss: 4.2678 - accuracy: 0.1760\n",
            "Epoch 25/100\n",
            "484/484 [==============================] - 55s 114ms/step - loss: 4.1697 - accuracy: 0.1889\n",
            "Epoch 26/100\n",
            "484/484 [==============================] - 55s 114ms/step - loss: 4.0659 - accuracy: 0.2009\n",
            "Epoch 27/100\n",
            "484/484 [==============================] - 55s 114ms/step - loss: 3.9736 - accuracy: 0.2174\n",
            "Epoch 28/100\n",
            "484/484 [==============================] - 55s 114ms/step - loss: 3.8755 - accuracy: 0.2344\n",
            "Epoch 29/100\n",
            "484/484 [==============================] - 55s 115ms/step - loss: 3.7919 - accuracy: 0.2507\n",
            "Epoch 30/100\n",
            "484/484 [==============================] - 55s 114ms/step - loss: 3.6940 - accuracy: 0.2688\n",
            "Epoch 31/100\n",
            "484/484 [==============================] - 55s 114ms/step - loss: 3.6086 - accuracy: 0.2777\n",
            "Epoch 32/100\n",
            "484/484 [==============================] - 55s 114ms/step - loss: 3.5141 - accuracy: 0.3027\n",
            "Epoch 33/100\n",
            "484/484 [==============================] - 55s 114ms/step - loss: 3.4320 - accuracy: 0.3190\n",
            "Epoch 34/100\n",
            "484/484 [==============================] - 55s 114ms/step - loss: 3.3606 - accuracy: 0.3362\n",
            "Epoch 35/100\n",
            "484/484 [==============================] - 55s 114ms/step - loss: 3.2712 - accuracy: 0.3512\n",
            "Epoch 36/100\n",
            "484/484 [==============================] - 55s 114ms/step - loss: 3.2016 - accuracy: 0.3724\n",
            "Epoch 37/100\n",
            "484/484 [==============================] - 55s 114ms/step - loss: 3.1286 - accuracy: 0.3840\n",
            "Epoch 38/100\n",
            "484/484 [==============================] - 55s 114ms/step - loss: 3.0658 - accuracy: 0.3963\n",
            "Epoch 39/100\n",
            "484/484 [==============================] - 55s 114ms/step - loss: 2.9857 - accuracy: 0.4133\n",
            "Epoch 40/100\n",
            "484/484 [==============================] - 55s 114ms/step - loss: 2.9125 - accuracy: 0.4345\n",
            "Epoch 41/100\n",
            "484/484 [==============================] - 55s 114ms/step - loss: 2.8490 - accuracy: 0.4485\n",
            "Epoch 42/100\n",
            "484/484 [==============================] - 55s 114ms/step - loss: 2.7832 - accuracy: 0.4591\n",
            "Epoch 43/100\n",
            "484/484 [==============================] - 55s 114ms/step - loss: 2.7357 - accuracy: 0.4707\n",
            "Epoch 44/100\n",
            "484/484 [==============================] - 55s 114ms/step - loss: 2.6892 - accuracy: 0.4835\n",
            "Epoch 45/100\n",
            "484/484 [==============================] - 55s 114ms/step - loss: 2.6209 - accuracy: 0.4967\n",
            "Epoch 46/100\n",
            "484/484 [==============================] - 55s 114ms/step - loss: 2.5519 - accuracy: 0.5173\n",
            "Epoch 47/100\n",
            "484/484 [==============================] - 55s 114ms/step - loss: 2.5112 - accuracy: 0.5227\n",
            "Epoch 48/100\n",
            "484/484 [==============================] - 55s 114ms/step - loss: 2.4530 - accuracy: 0.5350\n",
            "Epoch 49/100\n",
            "484/484 [==============================] - 55s 114ms/step - loss: 2.3999 - accuracy: 0.5460\n",
            "Epoch 50/100\n",
            "484/484 [==============================] - 55s 114ms/step - loss: 2.3649 - accuracy: 0.5521\n",
            "Epoch 51/100\n",
            "484/484 [==============================] - 55s 114ms/step - loss: 2.3116 - accuracy: 0.5683\n",
            "Epoch 52/100\n",
            "484/484 [==============================] - 55s 114ms/step - loss: 2.2707 - accuracy: 0.5808\n",
            "Epoch 53/100\n",
            "484/484 [==============================] - 55s 114ms/step - loss: 2.2177 - accuracy: 0.5891\n",
            "Epoch 54/100\n",
            "484/484 [==============================] - 55s 114ms/step - loss: 2.1771 - accuracy: 0.5993\n",
            "Epoch 55/100\n",
            "484/484 [==============================] - 56s 116ms/step - loss: 2.1457 - accuracy: 0.6050\n",
            "Epoch 56/100\n",
            "484/484 [==============================] - 55s 114ms/step - loss: 2.1062 - accuracy: 0.6124\n",
            "Epoch 57/100\n",
            "484/484 [==============================] - 55s 113ms/step - loss: 2.0612 - accuracy: 0.6217\n",
            "Epoch 58/100\n",
            "484/484 [==============================] - 55s 114ms/step - loss: 2.0171 - accuracy: 0.6335\n",
            "Epoch 59/100\n",
            "484/484 [==============================] - 55s 114ms/step - loss: 1.9896 - accuracy: 0.6398\n",
            "Epoch 60/100\n",
            "484/484 [==============================] - 55s 113ms/step - loss: 1.9544 - accuracy: 0.6461\n",
            "Epoch 61/100\n",
            "484/484 [==============================] - 55s 113ms/step - loss: 1.9215 - accuracy: 0.6547\n",
            "Epoch 62/100\n",
            "484/484 [==============================] - 55s 114ms/step - loss: 1.8855 - accuracy: 0.6647\n",
            "Epoch 63/100\n",
            "484/484 [==============================] - 55s 114ms/step - loss: 1.8413 - accuracy: 0.6703\n",
            "Epoch 64/100\n",
            "484/484 [==============================] - 55s 114ms/step - loss: 1.8179 - accuracy: 0.6772\n",
            "Epoch 65/100\n",
            "484/484 [==============================] - 55s 114ms/step - loss: 1.8029 - accuracy: 0.6771\n",
            "Epoch 66/100\n",
            "484/484 [==============================] - 55s 114ms/step - loss: 1.7693 - accuracy: 0.6872\n",
            "Epoch 67/100\n",
            "484/484 [==============================] - 55s 114ms/step - loss: 1.7306 - accuracy: 0.6942\n",
            "Epoch 68/100\n",
            "484/484 [==============================] - 55s 114ms/step - loss: 1.7239 - accuracy: 0.6967\n",
            "Epoch 69/100\n",
            "484/484 [==============================] - 55s 113ms/step - loss: 1.6975 - accuracy: 0.6977\n",
            "Epoch 70/100\n",
            "484/484 [==============================] - 55s 113ms/step - loss: 1.6618 - accuracy: 0.7064\n",
            "Epoch 71/100\n",
            "484/484 [==============================] - 55s 114ms/step - loss: 1.6467 - accuracy: 0.7106\n",
            "Epoch 72/100\n",
            "484/484 [==============================] - 55s 114ms/step - loss: 1.6149 - accuracy: 0.7200\n",
            "Epoch 73/100\n",
            "484/484 [==============================] - 55s 114ms/step - loss: 1.5920 - accuracy: 0.7214\n",
            "Epoch 74/100\n",
            "484/484 [==============================] - 55s 114ms/step - loss: 1.5692 - accuracy: 0.7278\n",
            "Epoch 75/100\n",
            "484/484 [==============================] - 55s 114ms/step - loss: 1.5539 - accuracy: 0.7271\n",
            "Epoch 76/100\n",
            "484/484 [==============================] - 55s 114ms/step - loss: 1.5450 - accuracy: 0.7280\n",
            "Epoch 77/100\n",
            "484/484 [==============================] - 55s 114ms/step - loss: 1.5137 - accuracy: 0.7358\n",
            "Epoch 78/100\n",
            "484/484 [==============================] - 55s 114ms/step - loss: 1.4926 - accuracy: 0.7399\n",
            "Epoch 79/100\n",
            "484/484 [==============================] - 55s 114ms/step - loss: 1.4779 - accuracy: 0.7414\n",
            "Epoch 80/100\n",
            "484/484 [==============================] - 55s 113ms/step - loss: 1.4523 - accuracy: 0.7480\n",
            "Epoch 81/100\n",
            "484/484 [==============================] - 55s 114ms/step - loss: 1.4411 - accuracy: 0.7499\n",
            "Epoch 82/100\n",
            "484/484 [==============================] - 55s 113ms/step - loss: 1.4228 - accuracy: 0.7530\n",
            "Epoch 83/100\n",
            "484/484 [==============================] - 55s 114ms/step - loss: 1.4063 - accuracy: 0.7544\n",
            "Epoch 84/100\n",
            "484/484 [==============================] - 55s 114ms/step - loss: 1.3965 - accuracy: 0.7572\n",
            "Epoch 85/100\n",
            "484/484 [==============================] - 55s 114ms/step - loss: 1.3806 - accuracy: 0.7592\n",
            "Epoch 86/100\n",
            "484/484 [==============================] - 55s 114ms/step - loss: 1.3680 - accuracy: 0.7621\n",
            "Epoch 87/100\n",
            "484/484 [==============================] - 55s 114ms/step - loss: 1.3520 - accuracy: 0.7637\n",
            "Epoch 88/100\n",
            "484/484 [==============================] - 55s 114ms/step - loss: 1.3273 - accuracy: 0.7687\n",
            "Epoch 89/100\n",
            "484/484 [==============================] - 55s 113ms/step - loss: 1.3119 - accuracy: 0.7719\n",
            "Epoch 90/100\n",
            "484/484 [==============================] - 55s 114ms/step - loss: 1.3060 - accuracy: 0.7741\n",
            "Epoch 91/100\n",
            "484/484 [==============================] - 55s 114ms/step - loss: 1.2785 - accuracy: 0.7780\n",
            "Epoch 92/100\n",
            "484/484 [==============================] - 55s 114ms/step - loss: 1.2655 - accuracy: 0.7805\n",
            "Epoch 93/100\n",
            "484/484 [==============================] - 55s 114ms/step - loss: 1.2494 - accuracy: 0.7849\n",
            "Epoch 94/100\n",
            "484/484 [==============================] - 55s 114ms/step - loss: 1.2477 - accuracy: 0.7826\n",
            "Epoch 95/100\n",
            "484/484 [==============================] - 55s 114ms/step - loss: 1.2427 - accuracy: 0.7833\n",
            "Epoch 96/100\n",
            "484/484 [==============================] - 55s 114ms/step - loss: 1.2311 - accuracy: 0.7854\n",
            "Epoch 97/100\n",
            "484/484 [==============================] - 55s 113ms/step - loss: 1.2169 - accuracy: 0.7927\n",
            "Epoch 98/100\n",
            "484/484 [==============================] - 55s 114ms/step - loss: 1.2026 - accuracy: 0.7896\n",
            "Epoch 99/100\n",
            "484/484 [==============================] - 55s 114ms/step - loss: 1.1939 - accuracy: 0.7938\n",
            "Epoch 100/100\n",
            "484/484 [==============================] - 55s 113ms/step - loss: 1.1819 - accuracy: 0.7950\n"
          ]
        }
      ]
    },
    {
      "cell_type": "code",
      "source": [
        "import matplotlib.pyplot as plt\n",
        "acc = history.history['accuracy']\n",
        "loss = history.history['loss']\n",
        "\n",
        "epochs = range(len(acc))\n",
        "\n",
        "plt.plot(epochs, acc, 'b', label='Exactitud de entrenamiento')\n",
        "plt.title('Exactitud de entrenamiento')\n",
        "\n",
        "plt.figure()\n",
        "\n",
        "plt.plot(epochs, loss, 'b', label='Pérdida en entrenamiento')\n",
        "plt.title('Pérdida en entrenamiento')\n",
        "plt.legend()\n",
        "\n",
        "plt.show()"
      ],
      "metadata": {
        "colab": {
          "base_uri": "https://localhost:8080/",
          "height": 545
        },
        "id": "KEt9ma6FlbHn",
        "outputId": "b3e71e13-7e57-48d7-aecc-4c7b763a6f93"
      },
      "execution_count": null,
      "outputs": [
        {
          "output_type": "display_data",
          "data": {
            "text/plain": [
              "<Figure size 432x288 with 1 Axes>"
            ],
            "image/png": "[encoded data removed]"
          },
          "metadata": {
            "needs_background": "light"
          }
        },
        {
          "output_type": "display_data",
          "data": {
            "text/plain": [
              "<Figure size 432x288 with 1 Axes>"
            ],
            "image/png": "[encoded data removed]"
          },
          "metadata": {
            "needs_background": "light"
          }
        }
      ]
    },
    {
      "cell_type": "markdown",
      "source": [
        "**Generación de texto automático**"
      ],
      "metadata": {
        "id": "pDTpAuUplYCS"
      }
    },
    {
      "cell_type": "code",
      "source": [
        "seed_text = \"Who are you?\"\n",
        "next_words = 100\n",
        "  \n",
        "for _ in range(next_words):\n",
        "    token_list = tokenizer.texts_to_sequences([seed_text])[0]\n",
        "    token_list = pad_sequences([token_list], maxlen=max_sequence_len-1, padding='pre')\n",
        "    predicted = model.predict_classes(token_list, verbose=0)\n",
        "    output_word = \"\"\n",
        "    for word, index in tokenizer.word_index.items():\n",
        "        if index == predicted:\n",
        "            output_word = word\n",
        "            break\n",
        "    seed_text += \" \" + output_word\n",
        "print(seed_text)"
      ],
      "metadata": {
        "colab": {
          "base_uri": "https://localhost:8080/",
          "height": 235
        },
        "id": "g8wgD2TclizX",
        "outputId": "40e1e8f3-3334-4981-ac42-1654faa76e22"
      },
      "execution_count": null,
      "outputs": [
        {
          "output_type": "error",
          "ename": "AttributeError",
          "evalue": "ignored",
          "traceback": [
            "\u001b[0;31m---------------------------------------------------------------------------\u001b[0m",
            "\u001b[0;31mAttributeError\u001b[0m                            Traceback (most recent call last)",
            "\u001b[0;32m<ipython-input-23-fba1564ba241>\u001b[0m in \u001b[0;36m<module>\u001b[0;34m()\u001b[0m\n\u001b[1;32m      5\u001b[0m     \u001b[0mtoken_list\u001b[0m \u001b[0;34m=\u001b[0m \u001b[0mtokenizer\u001b[0m\u001b[0;34m.\u001b[0m\u001b[0mtexts_to_sequences\u001b[0m\u001b[0;34m(\u001b[0m\u001b[0;34m[\u001b[0m\u001b[0mseed_text\u001b[0m\u001b[0;34m]\u001b[0m\u001b[0;34m)\u001b[0m\u001b[0;34m[\u001b[0m\u001b[0;36m0\u001b[0m\u001b[0;34m]\u001b[0m\u001b[0;34m\u001b[0m\u001b[0;34m\u001b[0m\u001b[0m\n\u001b[1;32m      6\u001b[0m     \u001b[0mtoken_list\u001b[0m \u001b[0;34m=\u001b[0m \u001b[0mpad_sequences\u001b[0m\u001b[0;34m(\u001b[0m\u001b[0;34m[\u001b[0m\u001b[0mtoken_list\u001b[0m\u001b[0;34m]\u001b[0m\u001b[0;34m,\u001b[0m \u001b[0mmaxlen\u001b[0m\u001b[0;34m=\u001b[0m\u001b[0mmax_sequence_len\u001b[0m\u001b[0;34m-\u001b[0m\u001b[0;36m1\u001b[0m\u001b[0;34m,\u001b[0m \u001b[0mpadding\u001b[0m\u001b[0;34m=\u001b[0m\u001b[0;34m'pre'\u001b[0m\u001b[0;34m)\u001b[0m\u001b[0;34m\u001b[0m\u001b[0;34m\u001b[0m\u001b[0m\n\u001b[0;32m----> 7\u001b[0;31m     \u001b[0mpredicted\u001b[0m \u001b[0;34m=\u001b[0m \u001b[0mmodel\u001b[0m\u001b[0;34m.\u001b[0m\u001b[0mpredict_classes\u001b[0m\u001b[0;34m(\u001b[0m\u001b[0mtoken_list\u001b[0m\u001b[0;34m,\u001b[0m \u001b[0mverbose\u001b[0m\u001b[0;34m=\u001b[0m\u001b[0;36m0\u001b[0m\u001b[0;34m)\u001b[0m\u001b[0;34m\u001b[0m\u001b[0;34m\u001b[0m\u001b[0m\n\u001b[0m\u001b[1;32m      8\u001b[0m     \u001b[0moutput_word\u001b[0m \u001b[0;34m=\u001b[0m \u001b[0;34m\"\"\u001b[0m\u001b[0;34m\u001b[0m\u001b[0;34m\u001b[0m\u001b[0m\n\u001b[1;32m      9\u001b[0m     \u001b[0;32mfor\u001b[0m \u001b[0mword\u001b[0m\u001b[0;34m,\u001b[0m \u001b[0mindex\u001b[0m \u001b[0;32min\u001b[0m \u001b[0mtokenizer\u001b[0m\u001b[0;34m.\u001b[0m\u001b[0mword_index\u001b[0m\u001b[0;34m.\u001b[0m\u001b[0mitems\u001b[0m\u001b[0;34m(\u001b[0m\u001b[0;34m)\u001b[0m\u001b[0;34m:\u001b[0m\u001b[0;34m\u001b[0m\u001b[0;34m\u001b[0m\u001b[0m\n",
            "\u001b[0;31mAttributeError\u001b[0m: 'Sequential' object has no attribute 'predict_classes'"
          ]
        }
      ]
    }
  ]
}